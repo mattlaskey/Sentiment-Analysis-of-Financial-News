{
 "cells": [
  {
   "cell_type": "code",
   "execution_count": 2,
   "id": "7ec263c6",
   "metadata": {},
   "outputs": [
    {
     "name": "stderr",
     "output_type": "stream",
     "text": [
      "Found cached dataset financial_phrasebank (/home/fcsvmuser/.cache/huggingface/datasets/financial_phrasebank/sentences_allagree/1.0.0/550bde12e6c30e2674da973a55f57edde5181d53f5a5a34c1531c53f93b7e141)\n"
     ]
    },
    {
     "data": {
      "application/vnd.jupyter.widget-view+json": {
       "model_id": "749d404a8782493e94eb020230fb8ea3",
       "version_major": 2,
       "version_minor": 0
      },
      "text/plain": [
       "  0%|          | 0/1 [00:00<?, ?it/s]"
      ]
     },
     "metadata": {},
     "output_type": "display_data"
    },
    {
     "name": "stderr",
     "output_type": "stream",
     "text": [
      "Found cached dataset financial_phrasebank (/home/fcsvmuser/.cache/huggingface/datasets/financial_phrasebank/sentences_75agree/1.0.0/550bde12e6c30e2674da973a55f57edde5181d53f5a5a34c1531c53f93b7e141)\n"
     ]
    },
    {
     "data": {
      "application/vnd.jupyter.widget-view+json": {
       "model_id": "49adca4862e044f2b283106e7bc83859",
       "version_major": 2,
       "version_minor": 0
      },
      "text/plain": [
       "  0%|          | 0/1 [00:00<?, ?it/s]"
      ]
     },
     "metadata": {},
     "output_type": "display_data"
    }
   ],
   "source": [
    "from datasets import load_dataset\n",
    "#load data from huggingface\n",
    "training_data = load_dataset(\"financial_phrasebank\", \"sentences_allagree\")\n",
    "valitdation_data = load_dataset(\"financial_phrasebank\", \"sentences_75agree\")\n",
    "\n",
    "#setting up trining and test (validation) data\n",
    "train_sentances = training_data[\"train\"][\"sentence\"]\n",
    "train_classes = training_data[\"train\"]['label']\n",
    "validation_sentances = valitdation_data[\"train\"][\"sentence\"]\n",
    "validation_classes = valitdation_data[\"train\"][\"label\"]\n",
    "\n",
    "#time to make the most frequent class baseline\n",
    "class Baseline:\n",
    "    def __init__(self, classes):\n",
    "        self.train(classes)\n",
    "\n",
    "    def train(self, classes):\n",
    "        # Count classes to determine which is the most frequent\n",
    "        class_freqs = {}\n",
    "        for k in classes:\n",
    "            class_freqs[k] = class_freqs.get(k, 0) + 1\n",
    "        self.mfc = sorted(class_freqs, reverse=True, \n",
    "                            key=lambda x : class_freqs[x])[0]\n",
    "\n",
    "    def classify(self, test_instance):\n",
    "        return self.mfc\n",
    "\n",
    "classifier = Baseline(train_classes)\n",
    "results = [classifier.classify(x) for x in validation_sentances]\n",
    "\n",
    "# where 0 is a negative, 1 is a neutral, and 2 is a positive sentence"
   ]
  },
  {
   "cell_type": "code",
   "execution_count": 4,
   "id": "affa4c3e",
   "metadata": {},
   "outputs": [
    {
     "name": "stdout",
     "output_type": "stream",
     "text": [
      "{'f1': 0.4764116632262381}\n",
      "{'f1': 0.6214885606718795}\n",
      "{'f1': 0.255521819372507}\n",
      "{'f1': array([0.        , 0.76656546, 0.        ])}\n"
     ]
    }
   ],
   "source": [
    "import evaluate\n",
    "#1 neutral 2 positive\n",
    "\n",
    "accuracy = evaluate.load(\"accuracy\")\n",
    "f1 = evaluate.load(\"f1\")\n",
    "\n",
    "print(f1.compute(predictions = results, references = validation_classes, average = 'weighted'))\n",
    "print(f1.compute(predictions = results, references = validation_classes, average = 'micro'))\n",
    "print(f1.compute(predictions = results, references = validation_classes, average = 'macro'))\n",
    "print(f1.compute(predictions = results, references = validation_classes, average = None))\n"
   ]
  },
  {
   "cell_type": "code",
   "execution_count": null,
   "id": "ecfe8d8d",
   "metadata": {},
   "outputs": [],
   "source": []
  }
 ],
 "metadata": {
  "kernelspec": {
   "display_name": "Python 3 (ipykernel)",
   "language": "python",
   "name": "python3"
  },
  "language_info": {
   "codemirror_mode": {
    "name": "ipython",
    "version": 3
   },
   "file_extension": ".py",
   "mimetype": "text/x-python",
   "name": "python",
   "nbconvert_exporter": "python",
   "pygments_lexer": "ipython3",
   "version": "3.9.16"
  }
 },
 "nbformat": 4,
 "nbformat_minor": 5
}
