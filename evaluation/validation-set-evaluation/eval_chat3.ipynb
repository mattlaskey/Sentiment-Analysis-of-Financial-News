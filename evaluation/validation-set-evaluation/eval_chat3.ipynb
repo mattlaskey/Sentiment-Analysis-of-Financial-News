{
 "cells": [
  {
   "cell_type": "code",
   "execution_count": 2,
   "id": "8ac45d12-c2be-4d08-9cdf-f59e3b4abddf",
   "metadata": {},
   "outputs": [],
   "source": [
    "from transformers import GPT2ForSequenceClassification\n",
    "\n",
    "\n",
    "model = GPT2ForSequenceClassification.from_pretrained(\"Dave12121/chat3Fsentiment\", num_labels=3)\n",
    "from transformers import AutoTokenizer\n",
    "\n",
    "tokenizer = AutoTokenizer.from_pretrained(\"microsoft/DialogRPT-updown\")"
   ]
  },
  {
   "cell_type": "code",
   "execution_count": 3,
   "id": "449e633a-183a-4f3a-a5dd-22ef40390fba",
   "metadata": {},
   "outputs": [],
   "source": [
    "from datasets import load_dataset\n",
    "\n",
    "sentences_75 = load_dataset(\"financial_phrasebank\", \"sentences_75agree\")\n"
   ]
  },
  {
   "cell_type": "code",
   "execution_count": 4,
   "id": "8b0acc39-ccf4-408f-81cf-74901e043261",
   "metadata": {},
   "outputs": [
    {
     "name": "stdout",
     "output_type": "stream",
     "text": [
      "Progress: 0.028960324355632783\n",
      "Progress: 0.057920648711265565\n",
      "Progress: 0.08688097306689835\n",
      "Progress: 0.11584129742253113\n",
      "Progress: 0.1448016217781639\n",
      "Progress: 0.1737619461337967\n",
      "Progress: 0.20272227048942948\n",
      "Progress: 0.23168259484506226\n",
      "Progress: 0.26064291920069504\n",
      "Progress: 0.2896032435563278\n",
      "Progress: 0.3185635679119606\n",
      "Progress: 0.3475238922675934\n",
      "Progress: 0.3764842166232262\n",
      "Progress: 0.40544454097885896\n",
      "Progress: 0.43440486533449174\n",
      "Progress: 0.4633651896901245\n",
      "Progress: 0.4923255140457573\n",
      "Progress: 0.5212858384013901\n",
      "Progress: 0.5502461627570229\n",
      "Progress: 0.5792064871126557\n",
      "Progress: 0.6081668114682884\n",
      "Progress: 0.6371271358239212\n",
      "Progress: 0.666087460179554\n",
      "Progress: 0.6950477845351868\n",
      "Progress: 0.7240081088908196\n",
      "Progress: 0.7529684332464524\n",
      "Progress: 0.7819287576020851\n",
      "Progress: 0.8108890819577179\n",
      "Progress: 0.8398494063133507\n",
      "Progress: 0.8688097306689835\n",
      "Progress: 0.8977700550246163\n",
      "Progress: 0.926730379380249\n",
      "Progress: 0.9556907037358818\n",
      "Progress: 0.9846510280915146\n"
     ]
    }
   ],
   "source": [
    "import torch\n",
    "import tensorflow as tf\n",
    "predLabels = []\n",
    "refLabels = []\n",
    "i = 1\n",
    "for sample in sentences_75[\"train\"]:\n",
    "    refLabels.append(sample['label'])\n",
    "    res = tokenizer(sample[\"sentence\"], return_tensors=\"pt\", padding=True, truncation=True, max_length=64)\n",
    "    with torch.no_grad():\n",
    "        result = model(**res).logits\n",
    "    predicted_class_id = int(tf.math.argmax(result, axis=-1)[0])\n",
    "    predLabels.append(predicted_class_id)\n",
    "    i += 1\n",
    "    if (i % 100) == 0:\n",
    "        print(f\"Progress: {i/len(sentences_75['train'])}\")"
   ]
  },
  {
   "cell_type": "code",
   "execution_count": 5,
   "id": "20b12d8a-ffe7-4eee-9d3e-e1a65a187b07",
   "metadata": {},
   "outputs": [
    {
     "name": "stdout",
     "output_type": "stream",
     "text": [
      "{'f1': 0.922618970347453}\n",
      "{'f1': 0.9238343469446858}\n",
      "{'f1': 0.9046468079340619}\n",
      "{'f1': array([0.88834951, 0.94789307, 0.87769784])}\n"
     ]
    }
   ],
   "source": [
    "import evaluate\n",
    "#1 neutral 2 positive\n",
    "\n",
    "accuracy = evaluate.load(\"accuracy\")\n",
    "f1 = evaluate.load(\"f1\")\n",
    "\n",
    "print(f1.compute(predictions = predLabels, references = refLabels, average = 'weighted'))\n",
    "print(f1.compute(predictions = predLabels, references = refLabels, average = 'micro'))\n",
    "print(f1.compute(predictions = predLabels, references = refLabels, average = 'macro'))\n",
    "print(f1.compute(predictions = predLabels, references = refLabels, average = None))"
   ]
  }
 ],
 "metadata": {
  "kernelspec": {
   "display_name": "Python 3 (ipykernel)",
   "language": "python",
   "name": "python3"
  },
  "language_info": {
   "codemirror_mode": {
    "name": "ipython",
    "version": 3
   },
   "file_extension": ".py",
   "mimetype": "text/x-python",
   "name": "python",
   "nbconvert_exporter": "python",
   "pygments_lexer": "ipython3",
   "version": "3.10.12"
  }
 },
 "nbformat": 4,
 "nbformat_minor": 5
}
