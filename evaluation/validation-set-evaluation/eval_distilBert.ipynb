{
 "cells": [
  {
   "cell_type": "code",
   "execution_count": 3,
   "id": "7ec263c6",
   "metadata": {},
   "outputs": [
    {
     "name": "stderr",
     "output_type": "stream",
     "text": [
      "Some layers from the model checkpoint at Dave12121/Fsentiment were not used when initializing TFDistilBertForSequenceClassification: ['dropout_219']\n",
      "- This IS expected if you are initializing TFDistilBertForSequenceClassification from the checkpoint of a model trained on another task or with another architecture (e.g. initializing a BertForSequenceClassification model from a BertForPreTraining model).\n",
      "- This IS NOT expected if you are initializing TFDistilBertForSequenceClassification from the checkpoint of a model that you expect to be exactly identical (initializing a BertForSequenceClassification model from a BertForSequenceClassification model).\n",
      "Some layers of TFDistilBertForSequenceClassification were not initialized from the model checkpoint at Dave12121/Fsentiment and are newly initialized: ['dropout_39']\n",
      "You should probably TRAIN this model on a down-stream task to be able to use it for predictions and inference.\n"
     ]
    }
   ],
   "source": [
    "# Use a pipeline as a high-level helper\n",
    "from transformers import pipeline\n",
    "\n",
    "pipe = pipeline(\"text-classification\", model=\"Dave12121/Fsentiment\")\n"
   ]
  },
  {
   "cell_type": "code",
   "execution_count": 4,
   "id": "d8b6f861",
   "metadata": {},
   "outputs": [],
   "source": [
    "from datasets import load_dataset\n",
    "\n",
    "sentences_75 = load_dataset(\"financial_phrasebank\", \"sentences_75agree\")\n"
   ]
  },
  {
   "cell_type": "code",
   "execution_count": 5,
   "id": "4464de56",
   "metadata": {},
   "outputs": [],
   "source": [
    "refLabels = []\n",
    "refText = []\n",
    "\n",
    "for x in sentences_75[\"train\"]:\n",
    "    refLabels.append(x[\"label\"])\n",
    "    refText.append(x[\"sentence\"])\n"
   ]
  },
  {
   "cell_type": "code",
   "execution_count": 6,
   "id": "190c9b8f",
   "metadata": {},
   "outputs": [],
   "source": [
    "pred = pipe(refText)"
   ]
  },
  {
   "cell_type": "code",
   "execution_count": 7,
   "id": "8366e9ab",
   "metadata": {},
   "outputs": [],
   "source": [
    "predLabels = []\n",
    "for x in pred:\n",
    "    if x['label'] == 'positive':\n",
    "        predLabels.append(2)\n",
    "    if x['label'] == 'negative':\n",
    "        predLabels.append(0)\n",
    "    if x['label'] == 'neutral':\n",
    "        predLabels.append(1)\n"
   ]
  },
  {
   "cell_type": "code",
   "execution_count": 8,
   "id": "affa4c3e",
   "metadata": {},
   "outputs": [
    {
     "name": "stdout",
     "output_type": "stream",
     "text": [
      "{'f1': 0.9384152636749366}\n",
      "{'f1': 0.9380249058789458}\n",
      "{'f1': 0.9205802590480946}\n",
      "{'f1': array([0.89614936, 0.96043335, 0.90515807])}\n"
     ]
    }
   ],
   "source": [
    "import evaluate\n",
    "#1 neutral 2 positive\n",
    "\n",
    "accuracy = evaluate.load(\"accuracy\")\n",
    "f1 = evaluate.load(\"f1\")\n",
    "\n",
    "print(f1.compute(predictions = predLabels, references = refLabels, average = 'weighted'))\n",
    "print(f1.compute(predictions = predLabels, references = refLabels, average = 'micro'))\n",
    "print(f1.compute(predictions = predLabels, references = refLabels, average = 'macro'))\n",
    "print(f1.compute(predictions = predLabels, references = refLabels, average = None))\n"
   ]
  }
 ],
 "metadata": {
  "kernelspec": {
   "display_name": "Python 3 (ipykernel)",
   "language": "python",
   "name": "python3"
  },
  "language_info": {
   "codemirror_mode": {
    "name": "ipython",
    "version": 3
   },
   "file_extension": ".py",
   "mimetype": "text/x-python",
   "name": "python",
   "nbconvert_exporter": "python",
   "pygments_lexer": "ipython3",
   "version": "3.10.12"
  }
 },
 "nbformat": 4,
 "nbformat_minor": 5
}
