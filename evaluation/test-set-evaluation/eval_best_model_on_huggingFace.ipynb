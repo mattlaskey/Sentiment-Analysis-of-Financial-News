{
 "cells": [
  {
   "cell_type": "code",
   "execution_count": 13,
   "id": "f25c5107-de5c-4a66-ac3e-495f8ffb95d6",
   "metadata": {},
   "outputs": [],
   "source": [
    "# Use a pipeline as a high-level helper\n",
    "from transformers import pipeline\n",
    "\n",
    "pipe = pipeline(\"text-classification\", model=\"mrm8488/distilroberta-finetuned-financial-news-sentiment-analysis\")\n"
   ]
  },
  {
   "cell_type": "code",
   "execution_count": 14,
   "id": "6ced373f-678b-45f8-8809-08e9391472a2",
   "metadata": {},
   "outputs": [],
   "source": [
    "from datasets import load_dataset\n",
    "\n",
    "sentences_75 = load_dataset(\"financial_phrasebank\", \"sentences_66agree\")"
   ]
  },
  {
   "cell_type": "code",
   "execution_count": 15,
   "id": "13e1f56b-0972-4774-9d91-1f12d199f2db",
   "metadata": {},
   "outputs": [],
   "source": [
    "refLabels = []\n",
    "refText = []\n",
    "\n",
    "for x in sentences_75[\"train\"]:\n",
    "    refLabels.append(x[\"label\"])\n",
    "    refText.append(x[\"sentence\"])"
   ]
  },
  {
   "cell_type": "code",
   "execution_count": 16,
   "id": "7e7f39b5-7db0-4588-8bd0-cede83316c58",
   "metadata": {},
   "outputs": [],
   "source": [
    "pred = pipe(refText)"
   ]
  },
  {
   "cell_type": "code",
   "execution_count": 17,
   "id": "85fbd5c8-cb4a-44fe-aef2-55b8d6b6e78e",
   "metadata": {},
   "outputs": [],
   "source": [
    "predLabels = []\n",
    "for x in pred:\n",
    "    if x['label'] == 'positive':\n",
    "        predLabels.append(2)\n",
    "    if x['label'] == 'negative':\n",
    "        predLabels.append(0)\n",
    "    if x['label'] == 'neutral':\n",
    "        predLabels.append(1)\n"
   ]
  },
  {
   "cell_type": "code",
   "execution_count": 18,
   "id": "5cbffbc6-37b2-4e4a-b3a0-713db02f33d2",
   "metadata": {},
   "outputs": [
    {
     "name": "stdout",
     "output_type": "stream",
     "text": [
      "{'f1': 0.9004603236505768}\n",
      "{'f1': 0.9006402655916529}\n",
      "{'f1': 0.8848906203114896}\n",
      "{'f1': array([0.86513487, 0.92346939, 0.86606761])}\n"
     ]
    }
   ],
   "source": [
    "import evaluate\n",
    "#1 neutral 2 positive\n",
    "\n",
    "accuracy = evaluate.load(\"accuracy\")\n",
    "f1 = evaluate.load(\"f1\")\n",
    "\n",
    "print(f1.compute(predictions = predLabels, references = refLabels, average = 'weighted'))\n",
    "print(f1.compute(predictions = predLabels, references = refLabels, average = 'micro'))\n",
    "print(f1.compute(predictions = predLabels, references = refLabels, average = 'macro'))\n",
    "print(f1.compute(predictions = predLabels, references = refLabels, average = None))"
   ]
  }
 ],
 "metadata": {
  "kernelspec": {
   "display_name": "Python 3 (ipykernel)",
   "language": "python",
   "name": "python3"
  },
  "language_info": {
   "codemirror_mode": {
    "name": "ipython",
    "version": 3
   },
   "file_extension": ".py",
   "mimetype": "text/x-python",
   "name": "python",
   "nbconvert_exporter": "python",
   "pygments_lexer": "ipython3",
   "version": "3.10.12"
  }
 },
 "nbformat": 4,
 "nbformat_minor": 5
}
