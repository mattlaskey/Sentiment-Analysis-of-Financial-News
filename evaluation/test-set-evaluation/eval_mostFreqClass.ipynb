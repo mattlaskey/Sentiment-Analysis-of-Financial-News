{
 "cells": [
  {
   "cell_type": "code",
   "execution_count": 1,
   "id": "7ec263c6",
   "metadata": {},
   "outputs": [],
   "source": [
    "from datasets import load_dataset\n",
    "#load data from huggingface\n",
    "training_data = load_dataset(\"financial_phrasebank\", \"sentences_allagree\")\n",
    "valitdation_data = load_dataset(\"financial_phrasebank\", \"sentences_66agree\")\n",
    "\n",
    "#setting up trining and test (validation) data\n",
    "train_sentances = training_data[\"train\"][\"sentence\"]\n",
    "train_classes = training_data[\"train\"]['label']\n",
    "validation_sentances = valitdation_data[\"train\"][\"sentence\"]\n",
    "validation_classes = valitdation_data[\"train\"][\"label\"]\n",
    "\n",
    "#time to make the most frequent class baseline\n",
    "class Baseline:\n",
    "    def __init__(self, classes):\n",
    "        self.train(classes)\n",
    "\n",
    "    def train(self, classes):\n",
    "        # Count classes to determine which is the most frequent\n",
    "        class_freqs = {}\n",
    "        for k in classes:\n",
    "            class_freqs[k] = class_freqs.get(k, 0) + 1\n",
    "        self.mfc = sorted(class_freqs, reverse=True, \n",
    "                            key=lambda x : class_freqs[x])[0]\n",
    "\n",
    "    def classify(self, test_instance):\n",
    "        return self.mfc\n",
    "\n",
    "classifier = Baseline(train_classes)\n",
    "results = [classifier.classify(x) for x in validation_sentances]\n",
    "\n",
    "# where 0 is a negative, 1 is a neutral, and 2 is a positive sentence"
   ]
  },
  {
   "cell_type": "code",
   "execution_count": 2,
   "id": "affa4c3e",
   "metadata": {},
   "outputs": [
    {
     "name": "stderr",
     "output_type": "stream",
     "text": [
      "2023-11-30 17:37:01.756414: I tensorflow/tsl/cuda/cudart_stub.cc:28] Could not find cuda drivers on your machine, GPU will not be used.\n",
      "2023-11-30 17:37:01.923497: E tensorflow/compiler/xla/stream_executor/cuda/cuda_dnn.cc:9342] Unable to register cuDNN factory: Attempting to register factory for plugin cuDNN when one has already been registered\n",
      "2023-11-30 17:37:01.923536: E tensorflow/compiler/xla/stream_executor/cuda/cuda_fft.cc:609] Unable to register cuFFT factory: Attempting to register factory for plugin cuFFT when one has already been registered\n",
      "2023-11-30 17:37:01.924468: E tensorflow/compiler/xla/stream_executor/cuda/cuda_blas.cc:1518] Unable to register cuBLAS factory: Attempting to register factory for plugin cuBLAS when one has already been registered\n",
      "2023-11-30 17:37:02.014145: I tensorflow/core/platform/cpu_feature_guard.cc:182] This TensorFlow binary is optimized to use available CPU instructions in performance-critical operations.\n",
      "To enable the following instructions: AVX2 FMA, in other operations, rebuild TensorFlow with the appropriate compiler flags.\n",
      "2023-11-30 17:37:03.021427: W tensorflow/compiler/tf2tensorrt/utils/py_utils.cc:38] TF-TRT Warning: Could not find TensorRT\n"
     ]
    },
    {
     "name": "stdout",
     "output_type": "stream",
     "text": [
      "{'f1': 0.4513878742890153}\n",
      "{'f1': 0.6011382499407162}\n",
      "{'f1': 0.2502962085308057}\n",
      "{'f1': array([0.        , 0.75088863, 0.        ])}\n"
     ]
    }
   ],
   "source": [
    "import evaluate\n",
    "#1 neutral 2 positive\n",
    "\n",
    "accuracy = evaluate.load(\"accuracy\")\n",
    "f1 = evaluate.load(\"f1\")\n",
    "\n",
    "print(f1.compute(predictions = results, references = validation_classes, average = 'weighted'))\n",
    "print(f1.compute(predictions = results, references = validation_classes, average = 'micro'))\n",
    "print(f1.compute(predictions = results, references = validation_classes, average = 'macro'))\n",
    "print(f1.compute(predictions = results, references = validation_classes, average = None))\n"
   ]
  },
  {
   "cell_type": "code",
   "execution_count": null,
   "id": "ecfe8d8d",
   "metadata": {},
   "outputs": [],
   "source": []
  }
 ],
 "metadata": {
  "kernelspec": {
   "display_name": "Python 3 (ipykernel)",
   "language": "python",
   "name": "python3"
  },
  "language_info": {
   "codemirror_mode": {
    "name": "ipython",
    "version": 3
   },
   "file_extension": ".py",
   "mimetype": "text/x-python",
   "name": "python",
   "nbconvert_exporter": "python",
   "pygments_lexer": "ipython3",
   "version": "3.10.12"
  }
 },
 "nbformat": 4,
 "nbformat_minor": 5
}
