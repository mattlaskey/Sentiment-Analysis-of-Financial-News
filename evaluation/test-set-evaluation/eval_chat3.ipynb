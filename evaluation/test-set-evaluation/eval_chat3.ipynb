{
 "cells": [
  {
   "cell_type": "code",
   "execution_count": 1,
   "id": "8ac45d12-c2be-4d08-9cdf-f59e3b4abddf",
   "metadata": {},
   "outputs": [],
   "source": [
    "from transformers import GPT2ForSequenceClassification\n",
    "\n",
    "\n",
    "model = GPT2ForSequenceClassification.from_pretrained(\"Dave12121/chat3Fsentiment\", num_labels=3)\n",
    "from transformers import AutoTokenizer\n",
    "\n",
    "tokenizer = AutoTokenizer.from_pretrained(\"microsoft/DialogRPT-updown\")"
   ]
  },
  {
   "cell_type": "code",
   "execution_count": 2,
   "id": "449e633a-183a-4f3a-a5dd-22ef40390fba",
   "metadata": {},
   "outputs": [],
   "source": [
    "from datasets import load_dataset\n",
    "\n",
    "sentences_75 = load_dataset(\"financial_phrasebank\", \"sentences_66agree\")\n"
   ]
  },
  {
   "cell_type": "code",
   "execution_count": 3,
   "id": "8b0acc39-ccf4-408f-81cf-74901e043261",
   "metadata": {},
   "outputs": [
    {
     "name": "stderr",
     "output_type": "stream",
     "text": [
      "2023-11-30 15:04:48.969004: I tensorflow/tsl/cuda/cudart_stub.cc:28] Could not find cuda drivers on your machine, GPU will not be used.\n",
      "2023-11-30 15:04:49.169457: E tensorflow/compiler/xla/stream_executor/cuda/cuda_dnn.cc:9342] Unable to register cuDNN factory: Attempting to register factory for plugin cuDNN when one has already been registered\n",
      "2023-11-30 15:04:49.169489: E tensorflow/compiler/xla/stream_executor/cuda/cuda_fft.cc:609] Unable to register cuFFT factory: Attempting to register factory for plugin cuFFT when one has already been registered\n",
      "2023-11-30 15:04:49.170057: E tensorflow/compiler/xla/stream_executor/cuda/cuda_blas.cc:1518] Unable to register cuBLAS factory: Attempting to register factory for plugin cuBLAS when one has already been registered\n",
      "2023-11-30 15:04:49.278548: I tensorflow/core/platform/cpu_feature_guard.cc:182] This TensorFlow binary is optimized to use available CPU instructions in performance-critical operations.\n",
      "To enable the following instructions: AVX2 FMA, in other operations, rebuild TensorFlow with the appropriate compiler flags.\n",
      "2023-11-30 15:04:50.144839: W tensorflow/compiler/tf2tensorrt/utils/py_utils.cc:38] TF-TRT Warning: Could not find TensorRT\n"
     ]
    },
    {
     "name": "stdout",
     "output_type": "stream",
     "text": [
      "Progress: 0.023713540431586435\n",
      "Progress: 0.04742708086317287\n",
      "Progress: 0.0711406212947593\n",
      "Progress: 0.09485416172634574\n",
      "Progress: 0.11856770215793218\n",
      "Progress: 0.1422812425895186\n",
      "Progress: 0.16599478302110504\n",
      "Progress: 0.18970832345269148\n",
      "Progress: 0.21342186388427792\n",
      "Progress: 0.23713540431586436\n",
      "Progress: 0.2608489447474508\n",
      "Progress: 0.2845624851790372\n",
      "Progress: 0.30827602561062367\n",
      "Progress: 0.3319895660422101\n",
      "Progress: 0.35570310647379655\n",
      "Progress: 0.37941664690538296\n",
      "Progress: 0.4031301873369694\n",
      "Progress: 0.42684372776855584\n",
      "Progress: 0.4505572682001423\n",
      "Progress: 0.4742708086317287\n",
      "Progress: 0.4979843490633152\n",
      "Progress: 0.5216978894949016\n",
      "Progress: 0.5454114299264881\n",
      "Progress: 0.5691249703580744\n",
      "Progress: 0.5928385107896609\n",
      "Progress: 0.6165520512212473\n",
      "Progress: 0.6402655916528338\n",
      "Progress: 0.6639791320844202\n",
      "Progress: 0.6876926725160066\n",
      "Progress: 0.7114062129475931\n",
      "Progress: 0.7351197533791796\n",
      "Progress: 0.7588332938107659\n",
      "Progress: 0.7825468342423524\n",
      "Progress: 0.8062603746739389\n",
      "Progress: 0.8299739151055252\n",
      "Progress: 0.8536874555371117\n",
      "Progress: 0.8774009959686981\n",
      "Progress: 0.9011145364002846\n",
      "Progress: 0.924828076831871\n",
      "Progress: 0.9485416172634574\n",
      "Progress: 0.9722551576950439\n",
      "Progress: 0.9959686981266304\n"
     ]
    }
   ],
   "source": [
    "import torch\n",
    "import tensorflow as tf\n",
    "predLabels = []\n",
    "refLabels = []\n",
    "i = 1\n",
    "for sample in sentences_75[\"train\"]:\n",
    "    refLabels.append(sample['label'])\n",
    "    res = tokenizer(sample[\"sentence\"], return_tensors=\"pt\", padding=True, truncation=True, max_length=64)\n",
    "    with torch.no_grad():\n",
    "        result = model(**res).logits\n",
    "    predicted_class_id = int(tf.math.argmax(result, axis=-1)[0])\n",
    "    predLabels.append(predicted_class_id)\n",
    "    i += 1\n",
    "    if (i % 100) == 0:\n",
    "        print(f\"Progress: {i/len(sentences_75['train'])}\")"
   ]
  },
  {
   "cell_type": "code",
   "execution_count": 4,
   "id": "20b12d8a-ffe7-4eee-9d3e-e1a65a187b07",
   "metadata": {},
   "outputs": [
    {
     "name": "stdout",
     "output_type": "stream",
     "text": [
      "{'f1': 0.8624989324750875}\n",
      "{'f1': 0.8660184965615366}\n",
      "{'f1': 0.8367449349130222}\n",
      "{'f1': array([0.80773143, 0.90231171, 0.80019166])}\n"
     ]
    }
   ],
   "source": [
    "import evaluate\n",
    "#1 neutral 2 positive\n",
    "\n",
    "accuracy = evaluate.load(\"accuracy\")\n",
    "f1 = evaluate.load(\"f1\")\n",
    "\n",
    "print(f1.compute(predictions = predLabels, references = refLabels, average = 'weighted'))\n",
    "print(f1.compute(predictions = predLabels, references = refLabels, average = 'micro'))\n",
    "print(f1.compute(predictions = predLabels, references = refLabels, average = 'macro'))\n",
    "print(f1.compute(predictions = predLabels, references = refLabels, average = None))"
   ]
  }
 ],
 "metadata": {
  "kernelspec": {
   "display_name": "Python 3 (ipykernel)",
   "language": "python",
   "name": "python3"
  },
  "language_info": {
   "codemirror_mode": {
    "name": "ipython",
    "version": 3
   },
   "file_extension": ".py",
   "mimetype": "text/x-python",
   "name": "python",
   "nbconvert_exporter": "python",
   "pygments_lexer": "ipython3",
   "version": "3.10.12"
  }
 },
 "nbformat": 4,
 "nbformat_minor": 5
}
