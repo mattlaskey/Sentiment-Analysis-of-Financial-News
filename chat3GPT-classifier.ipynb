{
 "cells": [
  {
   "cell_type": "markdown",
   "id": "846ad770-2157-4f43-b051-088ca58820fa",
   "metadata": {},
   "source": [
    "# GPT2 model training code\n",
    "\n",
    " This code is inspired by the hugginface tutorial on [sequence classification](https://huggingface.co/docs/transformers/tasks/sequence_classification). \n",
    " \n",
    " The idea for using a GPT2 instance which was specilized for sequence classification tasks come from the [hugging face documentation](https://huggingface.co/docs/transformers/model_doc/gpt2#transformers.GPT2ForSequenceClassification). \n",
    " \n",
    " We used pytorch instead of tensorflow here because the base model of [microsoft/DialogRPT-updown](https://huggingface.co/microsoft/DialogRPT-updown) is a pytorch model. And converting it to a tensorflow model caused weird issues."
   ]
  },
  {
   "cell_type": "code",
   "execution_count": 1,
   "id": "f71e1a75-05aa-4f9e-bb0d-e0a98bc4bda8",
   "metadata": {},
   "outputs": [],
   "source": [
    "# import data set\n",
    "from datasets import load_dataset\n",
    "\n",
    "training_data = load_dataset(\"financial_phrasebank\", \"sentences_allagree\")\n",
    "valitdation_data = load_dataset(\"financial_phrasebank\", \"sentences_75agree\")\n",
    "\n"
   ]
  },
  {
   "cell_type": "code",
   "execution_count": 2,
   "id": "a579693b-c2c7-4608-aefb-6661a3de8868",
   "metadata": {},
   "outputs": [
    {
     "name": "stderr",
     "output_type": "stream",
     "text": [
      "Some weights of GPT2ForSequenceClassification were not initialized from the model checkpoint at microsoft/DialogRPT-updown and are newly initialized because the shapes did not match:\n",
      "- score.weight: found shape torch.Size([1, 1024]) in the checkpoint and torch.Size([3, 1024]) in the model instantiated\n",
      "You should probably TRAIN this model on a down-stream task to be able to use it for predictions and inference.\n"
     ]
    }
   ],
   "source": [
    "# import tokenizer and model from hugging face \n",
    "id2label = {0: \"negative\", 2: \"positive\", 1: \"neutral\"}\n",
    "label2id = {\"negative\": 0, \"positive\": 2,\"neutral\": 1}\n",
    "\n",
    "from transformers import AutoTokenizer\n",
    "\n",
    "tokenizer = AutoTokenizer.from_pretrained(\"microsoft/DialogRPT-updown\")\n",
    "\n",
    "\n",
    "from transformers import GPT2ForSequenceClassification\n",
    "\n",
    "model = GPT2ForSequenceClassification.from_pretrained(\"microsoft/DialogRPT-updown\", num_labels=3, ignore_mismatched_sizes=True)\n"
   ]
  },
  {
   "cell_type": "code",
   "execution_count": 3,
   "id": "813b0413-1329-4a2d-ab4d-0490217147b0",
   "metadata": {},
   "outputs": [
    {
     "data": {
      "text/plain": [
       "Dataset({\n",
       "    features: ['sentence', 'label', 'input_ids', 'attention_mask'],\n",
       "    num_rows: 3453\n",
       "})"
      ]
     },
     "execution_count": 3,
     "metadata": {},
     "output_type": "execute_result"
    }
   ],
   "source": [
    "# tokenize the traning and valiation set\n",
    "def preprocess_function(examples):\n",
    "    return tokenizer(examples[\"sentence\"], return_tensors=\"pt\", padding=True, truncation=True, max_length=64\n",
    "                )\n",
    "\n",
    "train_tokens = training_data.map(preprocess_function, batched=True)\n",
    "\n",
    "val_tokens = valitdation_data.map(preprocess_function,  batched=True)\n",
    "\n",
    "val_tokens[\"train\"]"
   ]
  },
  {
   "cell_type": "code",
   "execution_count": 5,
   "id": "781a13b3-4f87-4991-b3be-98b0caddf968",
   "metadata": {},
   "outputs": [
    {
     "name": "stderr",
     "output_type": "stream",
     "text": [
      "2023-11-30 06:55:49.926622: I tensorflow/tsl/cuda/cudart_stub.cc:28] Could not find cuda drivers on your machine, GPU will not be used.\n",
      "2023-11-30 06:55:50.051221: E tensorflow/compiler/xla/stream_executor/cuda/cuda_dnn.cc:9342] Unable to register cuDNN factory: Attempting to register factory for plugin cuDNN when one has already been registered\n",
      "2023-11-30 06:55:50.051253: E tensorflow/compiler/xla/stream_executor/cuda/cuda_fft.cc:609] Unable to register cuFFT factory: Attempting to register factory for plugin cuFFT when one has already been registered\n",
      "2023-11-30 06:55:50.051639: E tensorflow/compiler/xla/stream_executor/cuda/cuda_blas.cc:1518] Unable to register cuBLAS factory: Attempting to register factory for plugin cuBLAS when one has already been registered\n",
      "2023-11-30 06:55:50.120048: I tensorflow/core/platform/cpu_feature_guard.cc:182] This TensorFlow binary is optimized to use available CPU instructions in performance-critical operations.\n",
      "To enable the following instructions: AVX2 FMA, in other operations, rebuild TensorFlow with the appropriate compiler flags.\n",
      "2023-11-30 06:55:51.103746: W tensorflow/compiler/tf2tensorrt/utils/py_utils.cc:38] TF-TRT Warning: Could not find TensorRT\n"
     ]
    }
   ],
   "source": [
    "# set hyperparameters \n",
    "from transformers import TrainingArguments, Trainer\n",
    "\n",
    "from transformers import DataCollatorWithPadding\n",
    "\n",
    "training_args = TrainingArguments(\n",
    "    output_dir=\"./classification_model\",\n",
    "    per_device_train_batch_size=16,\n",
    "    save_total_limit=3,\n",
    "    num_train_epochs=3,\n",
    "    evaluation_strategy='epoch',\n",
    "    save_strategy='epoch',\n",
    "    logging_dir=\"./logs\",\n",
    ")\n",
    "\n",
    "trainer = Trainer(\n",
    "    model=model,\n",
    "    args=training_args,\n",
    "    train_dataset=train_tokens[\"train\"],\n",
    "    eval_dataset=val_tokens[\"train\"],\n",
    ")\n",
    "\n"
   ]
  },
  {
   "cell_type": "code",
   "execution_count": 6,
   "id": "f8e832f9-989e-4e5a-bf94-11cc213d2a5a",
   "metadata": {},
   "outputs": [
    {
     "data": {
      "text/html": [
       "\n",
       "    <div>\n",
       "      \n",
       "      <progress value='426' max='426' style='width:300px; height:20px; vertical-align: middle;'></progress>\n",
       "      [426/426 1:22:42, Epoch 3/3]\n",
       "    </div>\n",
       "    <table border=\"1\" class=\"dataframe\">\n",
       "  <thead>\n",
       " <tr style=\"text-align: left;\">\n",
       "      <th>Epoch</th>\n",
       "      <th>Training Loss</th>\n",
       "      <th>Validation Loss</th>\n",
       "    </tr>\n",
       "  </thead>\n",
       "  <tbody>\n",
       "    <tr>\n",
       "      <td>1</td>\n",
       "      <td>No log</td>\n",
       "      <td>0.255276</td>\n",
       "    </tr>\n",
       "    <tr>\n",
       "      <td>2</td>\n",
       "      <td>No log</td>\n",
       "      <td>0.295096</td>\n",
       "    </tr>\n",
       "    <tr>\n",
       "      <td>3</td>\n",
       "      <td>No log</td>\n",
       "      <td>0.323329</td>\n",
       "    </tr>\n",
       "  </tbody>\n",
       "</table><p>"
      ],
      "text/plain": [
       "<IPython.core.display.HTML object>"
      ]
     },
     "metadata": {},
     "output_type": "display_data"
    },
    {
     "data": {
      "text/html": [
       "\n",
       "    <div>\n",
       "      \n",
       "      <progress value='432' max='432' style='width:300px; height:20px; vertical-align: middle;'></progress>\n",
       "      [432/432 07:39]\n",
       "    </div>\n",
       "    "
      ],
      "text/plain": [
       "<IPython.core.display.HTML object>"
      ]
     },
     "metadata": {},
     "output_type": "display_data"
    },
    {
     "name": "stdout",
     "output_type": "stream",
     "text": [
      "{'eval_loss': 0.3233290910720825, 'eval_runtime': 460.2914, 'eval_samples_per_second': 7.502, 'eval_steps_per_second': 0.939, 'epoch': 3.0}\n"
     ]
    }
   ],
   "source": [
    "# train the model and save model every epoch\n",
    "trainer.train()\n",
    "\n",
    "# Evaluate the model\n",
    "results = trainer.evaluate()\n",
    "print(results)\n",
    "\n",
    "\n",
    "#tokenizer.save_pretrained(\"./classification_model\")"
   ]
  },
  {
   "cell_type": "markdown",
   "id": "0ac4e78a-8806-4be6-b244-d64f2228ea2c",
   "metadata": {},
   "source": [
    "The model was uploaded manually to [Huggingface]() "
   ]
  }
 ],
 "metadata": {
  "kernelspec": {
   "display_name": "Python 3 (ipykernel)",
   "language": "python",
   "name": "python3"
  },
  "language_info": {
   "codemirror_mode": {
    "name": "ipython",
    "version": 3
   },
   "file_extension": ".py",
   "mimetype": "text/x-python",
   "name": "python",
   "nbconvert_exporter": "python",
   "pygments_lexer": "ipython3",
   "version": "3.10.12"
  }
 },
 "nbformat": 4,
 "nbformat_minor": 5
}
